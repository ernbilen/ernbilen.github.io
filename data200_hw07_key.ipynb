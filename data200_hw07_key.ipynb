{
  "cells": [
    {
      "cell_type": "markdown",
      "metadata": {
        "id": "view-in-github",
        "colab_type": "text"
      },
      "source": [
        "<a href=\"https://colab.research.google.com/github/ernbilen/ernbilen.github.io/blob/master/data200_hw07_key.ipynb\" target=\"_parent\"><img src=\"https://colab.research.google.com/assets/colab-badge.svg\" alt=\"Open In Colab\"/></a>"
      ]
    },
    {
      "cell_type": "markdown",
      "metadata": {
        "id": "p535WETgyqID"
      },
      "source": [
        "# Data 200: Database Systems and Data Management for Data Analytics\n"
      ]
    },
    {
      "cell_type": "markdown",
      "metadata": {
        "id": "TOtLv1wcyqIF"
      },
      "source": [
        "# Homework 7: Regex and API\n",
        "\n",
        "**Dickinson College**<br/>\n",
        "**Fall 2022**<br/>\n",
        "Prof. Eren Bilen<br/>\n",
        "<font color='red'>**Due Date:** December 6 beginning of class </font>\n",
        "---\n",
        "Enter your name in the markdown cell below."
      ]
    },
    {
      "cell_type": "markdown",
      "metadata": {
        "id": "KZ9h81kKyqIF"
      },
      "source": [
        "# Name:"
      ]
    },
    {
      "cell_type": "markdown",
      "metadata": {
        "id": "WLYEVCB4yqIF"
      },
      "source": [
        "# Tasks\n",
        "\n",
        "- Review the notes posted on Github on regular expressions and API.\n",
        "- Review pages 103-128 in Bressoud & White textbook on regular expressions.\n",
        "- Review the TMDB API documentation on https://developers.themoviedb.org/3/getting-started/introduction\n",
        "- Commit and push your completed `.ipynb` and `.md` files"
      ]
    },
    {
      "cell_type": "code",
      "execution_count": null,
      "metadata": {
        "id": "_naP1E9EyqIG"
      },
      "outputs": [],
      "source": [
        "import re"
      ]
    },
    {
      "cell_type": "markdown",
      "metadata": {
        "id": "S_5EevyDyqIG"
      },
      "source": [
        "# Exercises: Regex"
      ]
    },
    {
      "cell_type": "markdown",
      "metadata": {
        "id": "js-hYhLYyqIG"
      },
      "source": [
        "Let's practice using regular expressions."
      ]
    },
    {
      "cell_type": "markdown",
      "metadata": {
        "id": "Mh8AKlgPyqIH"
      },
      "source": [
        "<div class=\"exercise\"><b>Exercise 1:</b></div> \n",
        "\n",
        "Write regex to return all numbers in the text below\n",
        "\n",
        "```Speed of light in vacuum is 299792458 m/s. Standard atmosphere 101325 Pa.```\n",
        "\n",
        "Below is the output from my solution:<br>\n",
        "<code>\n",
        "['299792458', '101325']\n",
        "</code>"
      ]
    },
    {
      "cell_type": "code",
      "execution_count": null,
      "metadata": {
        "id": "dmMlrDgGyqIH",
        "outputId": "26703f85-c01f-4e0c-91fd-eec485d845f6"
      },
      "outputs": [
        {
          "data": {
            "text/plain": [
              "['299792458', '101325']"
            ]
          },
          "execution_count": 22,
          "metadata": {},
          "output_type": "execute_result"
        }
      ],
      "source": [
        "re.findall('\\d+',\"Speed of light in vacuum is 299792458 m/s. Standard atmosphere 101325 Pa.\")"
      ]
    },
    {
      "cell_type": "markdown",
      "metadata": {
        "id": "HMK8Ed5CyqII"
      },
      "source": [
        "<div class=\"exercise\"><b>Exercise 2:</b></div> \n",
        "\n",
        "Write regex to return the numbers in the text below\n",
        "\n",
        "```Circumference to diameter ratio is 3.141592. Gas constant 8.3144621 J/mol*K.```\n",
        "\n",
        "Below is the output from my solution:<br>\n",
        "<code>\n",
        "['3.141592', '8.3144621']\n",
        "</code>"
      ]
    },
    {
      "cell_type": "code",
      "execution_count": null,
      "metadata": {
        "id": "SDQuMMULyqII",
        "outputId": "21bda147-0aa0-4151-b0fa-b3cac96a445d"
      },
      "outputs": [
        {
          "data": {
            "text/plain": [
              "['3.141592', '8.3144621']"
            ]
          },
          "execution_count": 27,
          "metadata": {},
          "output_type": "execute_result"
        }
      ],
      "source": [
        "re.findall('\\d+.\\d+',\"Circumference to diameter ratio is 3.141592. Gas constant 8.3144621 J/mol*K.\")"
      ]
    },
    {
      "cell_type": "markdown",
      "metadata": {
        "id": "W1RXYqajyqIJ"
      },
      "source": [
        "<div class=\"exercise\"><b>Exercise 3:</b></div> \n",
        "\n",
        "Write regex to return the numbers in the text below, including its unit of measurement.\n",
        "\n",
        "```Earth to Sun distance is 149600000 km. Earth to Mars distance is 54600000 km.``\n",
        "\n",
        "Below is the output from my solution:<br>\n",
        "<code>\n",
        "['149600000 km', '54600000 km']\n",
        "</code>"
      ]
    },
    {
      "cell_type": "code",
      "execution_count": null,
      "metadata": {
        "id": "9iwu4SxryqIJ",
        "outputId": "82c916d7-bafe-4b6e-f7dc-e7c1ec1e7fe7"
      },
      "outputs": [
        {
          "data": {
            "text/plain": [
              "['149600000 km', '54600000 km']"
            ]
          },
          "execution_count": 33,
          "metadata": {},
          "output_type": "execute_result"
        }
      ],
      "source": [
        "re.findall('\\d+\\s\\w+',\"Earth to Sun distance is 149600000 km. Earth to Mars distance is 54600000 km.\")"
      ]
    },
    {
      "cell_type": "markdown",
      "metadata": {
        "id": "-Lae1XcVyqIJ"
      },
      "source": [
        "<div class=\"exercise\"><b>Exercise 4:</b></div> \n",
        "\n",
        "Write regex to return all years in the text below\n",
        "\n",
        "```1 The Shawshank Redemption (1994)\n",
        "2 The Godfather (1972)\n",
        "3 The Godfather: Part II (1974) \n",
        "4 Pulp Fiction (1994) \n",
        "5 The Good, the Bad and the Ugly (1966) \n",
        "6 The Dark Knight (2008) \n",
        "7 12 Angry Men (1957) \n",
        "8 Schindler's List (1993)\n",
        "9 The Lord of the Rings: The Return of the King (2003) \n",
        "10 Fight Club (1999)```\n",
        "\n",
        "Below is the output from my solution:<br>\n",
        "<code>\n",
        "['1994',\n",
        " '1972',\n",
        " '1974',\n",
        " '1994',\n",
        " '1966',\n",
        " '2008',\n",
        " '1957',\n",
        " '1993',\n",
        " '2003',\n",
        " '1999']\n",
        "</code>"
      ]
    },
    {
      "cell_type": "code",
      "execution_count": null,
      "metadata": {
        "id": "9605SzYIyqIJ"
      },
      "outputs": [],
      "source": [
        "text = \"1 The Shawshank Redemption (1994)\\\n",
        "2 The Godfather (1972)\\\n",
        "3 The Godfather: Part II (1974) \\\n",
        "4 Pulp Fiction (1994) \\\n",
        "5 The Good, the Bad and the Ugly (1966) \\\n",
        "6 The Dark Knight (2008) \\\n",
        "7 12 Angry Men (1957) \\\n",
        "8 Schindler's List (1993)\\\n",
        "9 The Lord of the Rings: The Return of the King (2003) \\\n",
        "10 Fight Club (1999)\""
      ]
    },
    {
      "cell_type": "code",
      "execution_count": null,
      "metadata": {
        "id": "qiPbYD_WyqIK",
        "outputId": "d7fe9e44-69c3-42b9-a90c-e223c1cea7e3"
      },
      "outputs": [
        {
          "data": {
            "text/plain": [
              "['1994',\n",
              " '1972',\n",
              " '1974',\n",
              " '1994',\n",
              " '1966',\n",
              " '2008',\n",
              " '1957',\n",
              " '1993',\n",
              " '2003',\n",
              " '1999']"
            ]
          },
          "execution_count": 37,
          "metadata": {},
          "output_type": "execute_result"
        }
      ],
      "source": [
        "re.findall('(\\d{4})',text)"
      ]
    },
    {
      "cell_type": "markdown",
      "metadata": {
        "id": "aLfqBCfLyqIK"
      },
      "source": [
        "<div class=\"exercise\"><b>Exercise 5:</b></div> \n",
        "\n",
        "It is generally not recommended to parse html with regex, (BeautifulSoup package is designed just for parsing html and does it much more efficiently) but let's practice anyway in case you find yourself in a situation where regex is needed.\n",
        "\n",
        "Write regex to return the title in the html text below:"
      ]
    },
    {
      "cell_type": "code",
      "execution_count": null,
      "metadata": {
        "id": "QohZva4vyqIK"
      },
      "outputs": [],
      "source": [
        "text = \"\\\\n<!DOCTYPE html>\\\\n<html>\\\\n<head>\\\\n<title>This is a title</title>\\\\n</head>\\\\n<body>\\\\n<p1>Hello world!</p1>\\\\n<p2>Hello world again</p2>\\\\n</body>\\\\n</html>\\\\n\""
      ]
    },
    {
      "cell_type": "markdown",
      "metadata": {
        "id": "U_RuXLn6yqIK"
      },
      "source": [
        "Below is the output from my solution:<br>\n",
        "<code>\n",
        "'This is a title'\n",
        "</code>"
      ]
    },
    {
      "cell_type": "code",
      "execution_count": null,
      "metadata": {
        "id": "eq7mUcpRyqIK",
        "outputId": "25fb595e-5312-4898-fff5-92f78061f339"
      },
      "outputs": [
        {
          "data": {
            "text/plain": [
              "'This is a title'"
            ]
          },
          "execution_count": 217,
          "metadata": {},
          "output_type": "execute_result"
        }
      ],
      "source": [
        "re.findall('<title>(.*)</title>',text)[0]"
      ]
    },
    {
      "cell_type": "markdown",
      "metadata": {
        "id": "7KH3FwOkyqIL"
      },
      "source": [
        "<div class=\"exercise\"><b>Exercise 6:</b></div> \n",
        "\n",
        "Write regex to return the content of the website contained in the same html text above. *Hint: Use () in your regex syntax to access the inside of the html tags. There are many ways of doing this. My solution uses nested regex code.\n",
        "\n",
        "Below is the output from my solution:<br>\n",
        "<code>\n",
        "['Hello world!', 'Hello world again']\n",
        "</code>"
      ]
    },
    {
      "cell_type": "code",
      "execution_count": null,
      "metadata": {
        "id": "SBM_lwdeyqIL",
        "outputId": "44f85eaa-6641-473a-8ba5-d63c1523e324"
      },
      "outputs": [
        {
          "data": {
            "text/plain": [
              "['Hello world!', 'Hello world again']"
            ]
          },
          "execution_count": 219,
          "metadata": {},
          "output_type": "execute_result"
        }
      ],
      "source": [
        "re.findall('<p\\d>(.*?)</p\\d>',re.findall('<body>(.*?)</body>', text)[0])"
      ]
    },
    {
      "cell_type": "markdown",
      "metadata": {
        "id": "FKFAGIEQyqIL"
      },
      "source": [
        "# Exercises: API"
      ]
    },
    {
      "cell_type": "markdown",
      "metadata": {
        "id": "lgW2rKYEyqIL"
      },
      "source": [
        "Please go to https://developers.themoviedb.org/3/getting-started/introduction and create a free account. Using your free account, get an API key. Review the API documentation on \"/discover/movie\" at https://developers.themoviedb.org/3/discover/movie-discover"
      ]
    },
    {
      "cell_type": "code",
      "execution_count": null,
      "metadata": {
        "id": "Sw4qv_JLyqIL"
      },
      "outputs": [],
      "source": [
        "import requests\n",
        "import pandas as pd"
      ]
    },
    {
      "cell_type": "markdown",
      "metadata": {
        "id": "CAg8xUyiyqIL"
      },
      "source": [
        "<div class=\"exercise\"><b>Exercise 7:</b></div> \n",
        "\n",
        "Return the 10 highest rated movies (according to `vote_average`) in 2021 that have received more than 5000 votes (according to `vote_count`). Return `title`, `vote_average`, and `vote_count` *Hint: insert the filter requests to your API query*.\n",
        "\n",
        "\n",
        "Below is the output from my solution:<br>\n",
        "<code>\n",
        "                          title  vote_average  vote_count\n",
        "0  Zack Snyder's Justice League           8.2        8356\n",
        "1                        Nobody           8.1        5244\n",
        "2                       Cruella           8.1        7699\n",
        "3       Spider-Man: No Way Home           8.0       15948\n",
        "4      Raya and the Last Dragon           8.0        5717\n",
        "5              The Tomorrow War           7.9        5984\n",
        "6                          Luca           7.9        6877\n",
        "7                          Dune           7.8        8014\n",
        "8             Godzilla vs. Kong           7.7        8380\n",
        "9                       Encanto           7.7        7614\n",
        "</code>"
      ]
    },
    {
      "cell_type": "code",
      "execution_count": null,
      "metadata": {
        "id": "NRVDo-vNyqIM",
        "outputId": "20803b33-b777-41b8-8b05-4993147771a6"
      },
      "outputs": [
        {
          "name": "stdout",
          "output_type": "stream",
          "text": [
            "                          title  vote_average  vote_count\n",
            "0  Zack Snyder's Justice League           8.2        8356\n",
            "1                        Nobody           8.1        5244\n",
            "2                       Cruella           8.1        7699\n",
            "3       Spider-Man: No Way Home           8.0       15948\n",
            "4      Raya and the Last Dragon           8.0        5717\n",
            "5              The Tomorrow War           7.9        5984\n",
            "6                          Luca           7.9        6877\n",
            "7                          Dune           7.8        8014\n",
            "8             Godzilla vs. Kong           7.7        8380\n",
            "9                       Encanto           7.7        7614\n"
          ]
        }
      ],
      "source": [
        "apiKey = '0f58a2676b5211f026d62c93f999ce64'\n",
        "\n",
        "def getmovie(year):\n",
        "    url='https://api.themoviedb.org/3/discover/movie/?api_key='+ apiKey + \\\n",
        "'&primary_release_year={}&vote_count.gte=5000&sort_by=vote_average.desc'.format(year)\n",
        "    out = requests.get(url).json()\n",
        "    out = pd.DataFrame.from_dict(out['results'])\n",
        "    out['year'] = year\n",
        "    return out\n",
        "\n",
        "print(getmovie(2021)[['title','vote_average','vote_count']].head(10))"
      ]
    },
    {
      "cell_type": "markdown",
      "metadata": {
        "id": "OPkSK0YjyqIM"
      },
      "source": [
        "<div class=\"exercise\"><b>Exercise 8:</b></div> \n",
        "\n",
        "Return the 10 highest rated movies (according to `vote_average`) that were released between 1980 and 2022 and have received more than 5000 votes (according to `vote_count`). Return `title`, `vote_average`, `vote_count`, and `year` *Hint: Use a combination of filtering via API request and filtering via Pandas.*.\n",
        "\n",
        "\n",
        "Below is the output from my solution:<br>\n",
        "<code>\n",
        "                      title  vote_average  vote_count  year\n",
        "0  The Shawshank Redemption           8.7       22733  1994\n",
        "1          Schindler's List           8.6       13478  1993\n",
        "2              Pulp Fiction           8.5       24112  1994\n",
        "3         Life Is Beautiful           8.5       11477  1997\n",
        "4                  Parasite           8.5       14772  2019\n",
        "5              Forrest Gump           8.5       23659  1994\n",
        "6                GoodFellas           8.5       10698  1990\n",
        "7            The Green Mile           8.5       14667  1999\n",
        "8             Spirited Away           8.5       13592  2001\n",
        "9                Your Name.           8.5        9255  2016\n",
        "</code>"
      ]
    },
    {
      "cell_type": "code",
      "execution_count": null,
      "metadata": {
        "id": "J82JsoSJyqIM",
        "outputId": "ed8835d6-5f39-48e4-8ef7-da0546270ee0"
      },
      "outputs": [
        {
          "name": "stdout",
          "output_type": "stream",
          "text": [
            "                      title  vote_average  vote_count  year\n",
            "0  The Shawshank Redemption           8.7       22733  1994\n",
            "1          Schindler's List           8.6       13478  1993\n",
            "2              Pulp Fiction           8.5       24112  1994\n",
            "3         Life Is Beautiful           8.5       11477  1997\n",
            "4                  Parasite           8.5       14772  2019\n",
            "5              Forrest Gump           8.5       23659  1994\n",
            "6                GoodFellas           8.5       10698  1990\n",
            "7            The Green Mile           8.5       14667  1999\n",
            "8             Spirited Away           8.5       13592  2001\n",
            "9                Your Name.           8.5        9255  2016\n"
          ]
        }
      ],
      "source": [
        "df = []\n",
        "for i in range(1980,2023):\n",
        "    df.append(getmovie(i))\n",
        "df_out = pd.concat(df)\n",
        "print(df_out.sort_values('vote_average',ascending=False)[['title','vote_average','vote_count','year']]\\\n",
        "                          .head(10).reset_index(drop=True))"
      ]
    }
  ],
  "metadata": {
    "celltoolbar": "Raw Cell Format",
    "kernelspec": {
      "display_name": "Python 3 (ipykernel)",
      "language": "python",
      "name": "python3"
    },
    "language_info": {
      "codemirror_mode": {
        "name": "ipython",
        "version": 3
      },
      "file_extension": ".py",
      "mimetype": "text/x-python",
      "name": "python",
      "nbconvert_exporter": "python",
      "pygments_lexer": "ipython3",
      "version": "3.9.13"
    },
    "colab": {
      "provenance": [],
      "include_colab_link": true
    }
  },
  "nbformat": 4,
  "nbformat_minor": 0
}